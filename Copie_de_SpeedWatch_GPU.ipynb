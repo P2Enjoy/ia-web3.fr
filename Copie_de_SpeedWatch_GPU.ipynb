{
  "cells": [
    {
      "cell_type": "markdown",
      "metadata": {
        "id": "view-in-github",
        "colab_type": "text"
      },
      "source": [
        "<a href=\"https://colab.research.google.com/github/P2Enjoy/ia-web3.fr/blob/main/Copie_de_SpeedWatch_GPU.ipynb\" target=\"_parent\"><img src=\"https://colab.research.google.com/assets/colab-badge.svg\" alt=\"Open In Colab\"/></a>"
      ]
    },
    {
      "cell_type": "code",
      "execution_count": null,
      "metadata": {
        "id": "aJcKAw0ibDeF",
        "cellView": "form"
      },
      "outputs": [],
      "source": [
        "#@title Install all requirements (run once)\n",
        "\n",
        "# System\n",
        "import locale, os\n",
        "locale.getpreferredencoding = lambda: \"UTF-8\"\n",
        "!pip install --upgrade transformers==4.31.0 torch accelerate==0.21.0 bitsandbytes==0.41.0 tensorflow==2.13.0 onnxruntime-gpu==1.15.1\n",
        "os.environ['CUDA_LAUNCH_BLOCKING'] = \"1\"\n",
        "\n",
        "# Application\n",
        "!pip install nltk\n",
        "!pip install pytorch-crf==0.7.2 youtube_transcript_api==0.6.1 fastpunct==2.0.2 nnsplit==0.5.9.post0 tiktoken==0.4.0\n",
        "import nltk\n",
        "nltk.download('punkt')\n",
        "!git clone https://github.com/xashru/punctuation-restoration.git\n",
        "!gdown https://drive.google.com/u/0/uc?id=17BPcnHVhpQlsOTC8LEayIFFJ7WkL00cr&export=download"
      ]
    },
    {
      "cell_type": "markdown",
      "source": [
        "# Youtube processing"
      ],
      "metadata": {
        "id": "O6nVxgaEOiTJ"
      }
    },
    {
      "cell_type": "code",
      "source": [
        "#@title Put the link of the video to summarize:\n",
        "video_link = \"https://www.youtube.com/watch?v=jQL0ZeHtXFc\" #@param {type:\"string\"}"
      ],
      "metadata": {
        "cellView": "form",
        "id": "v6lO0flKOz2N"
      },
      "execution_count": null,
      "outputs": []
    },
    {
      "cell_type": "code",
      "execution_count": null,
      "metadata": {
        "id": "0S4YI0B-dL41"
      },
      "outputs": [],
      "source": [
        "#@title Extract the youtube video transcript\n",
        "\n",
        "def YTVideoToText(video_link):\n",
        "  # installing & importing libraries\n",
        "  from youtube_transcript_api import YouTubeTranscriptApi\n",
        "\n",
        "  # fetching video transcript\n",
        "  video_id = video_link.split(\"=\")[1]\n",
        "  transcript = YouTubeTranscriptApi.get_transcript(video_id)\n",
        "\n",
        "  # iterating throughout and adding all text together (recovering ponctuations)\n",
        "  flat_transcript = \"\"\n",
        "  for tu in transcript:\n",
        "      flat_transcript += ' ' + tu['text']\n",
        "\n",
        "  return flat_transcript\n",
        "\n",
        "video_full_text = YTVideoToText(video_link)"
      ]
    },
    {
      "cell_type": "code",
      "source": [
        "#@title Sentence splitter\n",
        "max_tokens_per_sentence = 416 #@param {type:\"slider\", min:64, max:8192, step:32}\n",
        "\n",
        "import tiktoken\n",
        "from nnsplit import NNSplit\n",
        "splitter = NNSplit.load(\"en\")\n",
        "encoding = tiktoken.encoding_for_model(\"gpt2\")\n",
        "\n",
        "# returns `Split` objects\n",
        "video_sentences = []\n",
        "current_sentence = \"\"\n",
        "for sentence in (splitter.split([video_full_text])[0]):\n",
        "  if (len(encoding.encode(f\"{current_sentence}\")) < max_tokens_per_sentence):\n",
        "    current_sentence += f\"{sentence}\"\n",
        "  else:\n",
        "    video_sentences.append(current_sentence)\n",
        "    current_sentence = \"\"\n"
      ],
      "metadata": {
        "id": "jYD5qKpcVyyE"
      },
      "execution_count": null,
      "outputs": []
    },
    {
      "cell_type": "code",
      "source": [
        "# @title Extract the sentences\n",
        "import spacy\n",
        "\n",
        "def process_text(full_text):\n",
        "    nlp = spacy.load(\"en_core_web_sm\")\n",
        "    doc = nlp(full_text)\n",
        "    return [f'{sentence}' for sentence in doc.sents]\n",
        "\n",
        "# Utilisation de la fonction\n",
        "video_sentences = process_text(video_full_text)\n",
        "video_sentences\n"
      ],
      "metadata": {
        "id": "CbusQqT8_mNS"
      },
      "execution_count": null,
      "outputs": []
    },
    {
      "cell_type": "code",
      "source": [],
      "metadata": {
        "id": "wevJ3xXdtvZi"
      },
      "execution_count": null,
      "outputs": []
    },
    {
      "cell_type": "code",
      "source": [
        "#@title Restore video transcript punctuation\n",
        "spell_check = True #@param {type:\"boolean\"}\n",
        "\n",
        "def FlatTextToPunct(txt):\n",
        "  # installing & importing libraries\n",
        "  from fastpunct import FastPunct\n",
        "\n",
        "  # The default language is 'english'\n",
        "  fastpunct = FastPunct()\n",
        "\n",
        "  return fastpunct.punct(txt, correct= spell_check)\n",
        "\n",
        "#video_restored_text = FlatTextToPunct(video_sentences)\n",
        "\n"
      ],
      "metadata": {
        "id": "EVjUKoIoOTNb",
        "cellView": "form"
      },
      "execution_count": null,
      "outputs": []
    },
    {
      "cell_type": "code",
      "source": [
        "with open(\"video_full_text\", 'w', encoding='utf-8') as f:\n",
        "  f.write(video_full_text)"
      ],
      "metadata": {
        "id": "ztEFWC5djAoU"
      },
      "execution_count": null,
      "outputs": []
    },
    {
      "cell_type": "code",
      "source": [
        "%%shell\n",
        "\n",
        "python punctuation-restoration/src/inference.py --pretrained-model=roberta-large --weight-path=roberta-large-en.pt --language=en\n",
        "--in-file=video_full_text --out-file=video_restored_text"
      ],
      "metadata": {
        "id": "JfBOfJyJibpp"
      },
      "execution_count": null,
      "outputs": []
    },
    {
      "cell_type": "code",
      "source": [
        "with open(\"video_restored_text\", 'r', encoding='utf-8') as f:\n",
        "    video_restored_text = f.read()"
      ],
      "metadata": {
        "id": "i36xCMC4jbEE"
      },
      "execution_count": null,
      "outputs": []
    },
    {
      "cell_type": "markdown",
      "source": [
        "# Summarization"
      ],
      "metadata": {
        "id": "nICKbEnxOpmO"
      }
    },
    {
      "cell_type": "code",
      "execution_count": null,
      "metadata": {
        "cellView": "form",
        "id": "x66g0wqsddPr"
      },
      "outputs": [],
      "source": [
        "#@title Load the model into memory\n",
        "from transformers import pipeline\n",
        "\n",
        "model_id = \"facebook/bart-large-cnn\" #@param {type:\"string\"}\n",
        "summarizeryt = pipeline('summarization', model= model_id, device=0)"
      ]
    },
    {
      "cell_type": "code",
      "source": [
        "#@title Join sentences in paragraphs of less the specified token size\n",
        "summarize_token_width = 500 #@param {type:\"slider\", min:250, max:2048, step:250}"
      ],
      "metadata": {
        "id": "PiFJaGl9NwgL"
      },
      "execution_count": null,
      "outputs": []
    },
    {
      "cell_type": "code",
      "source": [
        "\n",
        "def do_sum(sentences):\n",
        "  # summarize text\n",
        "  summarized_text = ''\n",
        "  for sentence in sentences:\n",
        "      out = summarizeryt(sentence, min_length=30, do_sample=False)\n",
        "      out = out[0]\n",
        "      out = out['summary_text']\n",
        "      summarized_text.append(' ').append(out)\n",
        "\n",
        "  # returning summary\n",
        "  return summarized_text;"
      ],
      "metadata": {
        "id": "PM6h3Ig_W7ml"
      },
      "execution_count": null,
      "outputs": []
    },
    {
      "cell_type": "code",
      "execution_count": null,
      "metadata": {
        "id": "YCwHkI5Jhhr-"
      },
      "outputs": [],
      "source": [
        "#@title Show the transcript of the video\n",
        "video_full_text"
      ]
    },
    {
      "cell_type": "code",
      "execution_count": null,
      "metadata": {
        "cellView": "form",
        "id": "aOagAB7AhheV"
      },
      "outputs": [],
      "source": [
        "#@title Show the summarized text of the video\n",
        "sum_text"
      ]
    }
  ],
  "metadata": {
    "accelerator": "GPU",
    "colab": {
      "provenance": [],
      "include_colab_link": true
    },
    "gpuClass": "standard",
    "kernelspec": {
      "display_name": "Python 3",
      "name": "python3"
    },
    "language_info": {
      "name": "python"
    }
  },
  "nbformat": 4,
  "nbformat_minor": 0
}