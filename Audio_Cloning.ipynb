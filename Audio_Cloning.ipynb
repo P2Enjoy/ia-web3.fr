{
  "nbformat": 4,
  "nbformat_minor": 0,
  "metadata": {
    "colab": {
      "private_outputs": true,
      "provenance": [],
      "gpuType": "T4",
      "authorship_tag": "ABX9TyPLJROqCuAswOCCNlenVlf6",
      "include_colab_link": true
    },
    "kernelspec": {
      "name": "python3",
      "display_name": "Python 3"
    },
    "language_info": {
      "name": "python"
    },
    "accelerator": "GPU"
  },
  "cells": [
    {
      "cell_type": "markdown",
      "metadata": {
        "id": "view-in-github",
        "colab_type": "text"
      },
      "source": [
        "<a href=\"https://colab.research.google.com/github/P2Enjoy/ia-web3.fr/blob/main/Audio_Cloning.ipynb\" target=\"_parent\"><img src=\"https://colab.research.google.com/assets/colab-badge.svg\" alt=\"Open In Colab\"/></a>"
      ]
    },
    {
      "cell_type": "code",
      "execution_count": null,
      "metadata": {
        "id": "EilEbqdRHVcp"
      },
      "outputs": [],
      "source": [
        "%%shell\n",
        "\n",
        "wget https://huggingface.co/lj1995/VoiceConversionWebUI/resolve/main/RVC1006Nvidia.7z"
      ]
    },
    {
      "cell_type": "code",
      "source": [
        "%%shell\n",
        "\n",
        "sudo apt install p7zip-full aria2 python3.10-venv"
      ],
      "metadata": {
        "id": "Vz3JahL4Hlol"
      },
      "execution_count": null,
      "outputs": []
    },
    {
      "cell_type": "code",
      "source": [
        "%%shell\n",
        "\n",
        "if [ -e \"RVC1006Nvidia.7z\" ];\n",
        "then\n",
        "  7za x ./RVC1006Nvidia.7z\n",
        "  rm ./RVC1006Nvidia.7z\n",
        "fi"
      ],
      "metadata": {
        "id": "XXiYwStsHyBd"
      },
      "execution_count": null,
      "outputs": []
    },
    {
      "cell_type": "code",
      "source": [
        "%%shell\n",
        "\n",
        "cd ./RVC1006Nvidia\n",
        "bash ./tools/dlmodels.sh\n",
        "\n",
        "python3 -m venv .venv\n",
        "source .venv/bin/activate\n",
        "\n",
        "pip install -r requirements.txt"
      ],
      "metadata": {
        "id": "3XqFtFQDIImd"
      },
      "execution_count": null,
      "outputs": []
    },
    {
      "cell_type": "code",
      "source": [
        "%%shell\n",
        "\n",
        "cd ./RVC1006Nvidia\n",
        "source .venv/bin/activate\n",
        "\n",
        "# Run the main script\n",
        "python3 infer-web.py --pycmd python3"
      ],
      "metadata": {
        "id": "M-dI_KdNOaLc"
      },
      "execution_count": null,
      "outputs": []
    }
  ]
}